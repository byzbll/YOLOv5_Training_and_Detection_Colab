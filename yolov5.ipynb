{
 "cells": [
  {
   "cell_type": "code",
   "execution_count": null,
   "id": "2fabff88-5540-4d5b-a0ff-5ddfce18072f",
   "metadata": {},
   "outputs": [],
   "source": [
    "from google.colab import drive\n",
    "drive.mount('/content/drive')  # Google Drive'ı bağlayın"
   ]
  },
  {
   "cell_type": "code",
   "execution_count": null,
   "id": "abc3df4d-1a84-436f-9771-7d91d558aca6",
   "metadata": {},
   "outputs": [],
   "source": [
    "!git clone https://github.com/ultralytics/yolov5  #  YOLOv5'in GitHub deposu yerel çalışma ortamına klonlanır\n",
    "%cd yolov5 #  klonlanan YOLOv5 dizinine geçmeniz sağlanır\n",
    "%pip install -qr requirements.txt comet_ml  #  YOLOv5 için gerekli Python paketlerini yüklenir.\n",
    "\n",
    "import torch\n",
    "import utils\n",
    "display = utils.notebook_init() "
   ]
  },
  {
   "cell_type": "code",
   "execution_count": null,
   "id": "44c4d065-19b9-47a6-adba-998bd243d53e",
   "metadata": {},
   "outputs": [],
   "source": [
    "!unzip -q /content/drive/MyDrive/your_dataset.zip  # Sıkıştırılmış veri setini belirtilen dizine çıkartarak, veri dosyalarına erişimi sağlar"
   ]
  },
  {
   "cell_type": "code",
   "execution_count": null,
   "id": "8aacfd36-ddb2-4d7f-8939-354fcc6f191c",
   "metadata": {},
   "outputs": [],
   "source": [
    "# Eğitim\n",
    "!python train.py --img 640 --batch 16 --epochs 3 --data coco128.yaml --weights yolov5s.pt --cache"
   ]
  },
  {
   "cell_type": "code",
   "execution_count": null,
   "id": "3f16072b-783b-450c-b6bd-d395dffee771",
   "metadata": {},
   "outputs": [],
   "source": [
    "!python detect.py --weights yolov5s.pt --img 640 --conf 0.25 --source data/images # Bir görüntü veya video üzerinde nesne tespitinin yapılması"
   ]
  }
 ],
 "metadata": {
  "kernelspec": {
   "display_name": "Python 3 (ipykernel)",
   "language": "python",
   "name": "python3"
  },
  "language_info": {
   "codemirror_mode": {
    "name": "ipython",
    "version": 3
   },
   "file_extension": ".py",
   "mimetype": "text/x-python",
   "name": "python",
   "nbconvert_exporter": "python",
   "pygments_lexer": "ipython3",
   "version": "3.9.12"
  }
 },
 "nbformat": 4,
 "nbformat_minor": 5
}
